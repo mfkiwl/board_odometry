{
 "cells": [
  {
   "cell_type": "code",
   "execution_count": null,
   "metadata": {},
   "outputs": [],
   "source": [
    "import numpy as np\n",
    "import pandas as pd\n",
    "\n",
    "import matplotlib.pyplot as plt\n",
    "import os"
   ]
  },
  {
   "cell_type": "code",
   "execution_count": null,
   "metadata": {},
   "outputs": [],
   "source": [
    "dir_name = \"../output6\"\n",
    "gt_dir = \"../data/test6\"\n",
    "gt_files = os.listdir(gt_dir)\n",
    "print(gt_files)\n",
    "files = os.listdir(dir_name)\n",
    "\n",
    "print(files)\n",
    "data = []\n",
    "for file in files:\n",
    "    with open(os.path.join(dir_name, file), 'r') as f:\n",
    "        data.append(eval(f.read()))\n"
   ]
  },
  {
   "cell_type": "code",
   "execution_count": null,
   "metadata": {},
   "outputs": [],
   "source": [
    "dfs= []\n",
    "\n",
    "for experiment in data:\n",
    "    df = pd.DataFrame(experiment, columns=[\"x\", \"y\", \"x_gt\", \"y_gt\", \"l2\"])\n",
    "    dfs.append(df)\n"
   ]
  },
  {
   "cell_type": "code",
   "execution_count": null,
   "metadata": {},
   "outputs": [],
   "source": [
    "fix, axes = plt.subplots(len(dfs)//2+1, 2, figsize=(20, 10))\n",
    "for i, df in enumerate(dfs):\n",
    "    t = np.arange(len(dfs[i]))\n",
    "    ax = axes[i // 2, i % 2]\n",
    "    ax.plot(t, df[\"x\"].to_numpy(), label=f\"{files[i]}_pred\")\n",
    "    ax.plot(t, df[\"x_gt\"].to_numpy(), label=f\"{files[i]}_gt\")\n",
    "    ax.set_title(files[i])\n",
    "    ax.legend()\n",
    "plt.tight_layout()\n",
    "plt.show()"
   ]
  },
  {
   "cell_type": "code",
   "execution_count": null,
   "metadata": {},
   "outputs": [],
   "source": [
    "fix, axes = plt.subplots(len(dfs)//2+1, 2, figsize=(20, 10))\n",
    "for i, df in enumerate(dfs):\n",
    "    t = np.arange(len(dfs[i]))\n",
    "    ax = axes[i // 2, i % 2]\n",
    "    ax.plot(t, df[\"y\"].to_numpy(), label=f\"{files[i]}_pred\")\n",
    "    ax.plot(t, df[\"y_gt\"].to_numpy(), label=f\"{files[i]}_gt\")\n",
    "    ax.set_title(files[i])\n",
    "    ax.legend()\n",
    "plt.tight_layout()\n",
    "plt.show()"
   ]
  },
  {
   "cell_type": "code",
   "execution_count": null,
   "metadata": {},
   "outputs": [],
   "source": [
    "fix, axes = plt.subplots(len(dfs)//2+1, 2, figsize=(20, 10))\n",
    "for i, df in enumerate(dfs):\n",
    "    t = np.arange(len(dfs[i]))\n",
    "    dx  = np.abs(df[\"x\"].to_numpy() - df[\"x_gt\"].to_numpy())\n",
    "    dy  = np.abs(df[\"y\"].to_numpy() - df[\"y_gt\"].to_numpy())\n",
    "    ax = axes[i // 2, i % 2]\n",
    "    ax.plot(t, dx, label=f\"{files[i]}_abs_dx\")\n",
    "    ax.plot(t, dy, label=f\"{files[i]}_abs_dy\")\n",
    "    ax.plot(t, df[\"l2\"].to_numpy(), label=f\"{files[i]}_l2 error\")\n",
    "\n",
    "    mse_x = np.mean(np.square(dx))\n",
    "    mse_y = np.mean(np.square(dy))\n",
    "    print(files[i], mse_x.mean(), mse_y.mean(), df[\"l2\"].mean())\n",
    "\n",
    "    ax.set_title(files[i])\n",
    "    ax.legend()\n",
    "plt.tight_layout()\n",
    "plt.show()"
   ]
  },
  {
   "cell_type": "code",
   "execution_count": null,
   "metadata": {},
   "outputs": [],
   "source": [
    "fig, axes = plt.subplots(len(dfs)//2+1, 2, figsize=(10, 10))\n",
    "\n",
    "\n",
    "\n",
    "for i, df in enumerate(dfs):\n",
    "    ax = axes[i // 2, i % 2]\n",
    "    ax.plot(df[\"x\"].to_numpy(), df[\"y\"].to_numpy(), label=f\"{files[i]}_pred\")\n",
    "    ax.plot(df[\"x_gt\"].to_numpy(), df[\"y_gt\"].to_numpy(), label=f\"{files[i]}_gt\")\n",
    "    \n",
    "    euclidean = np.sqrt((df[\"x\"].to_numpy() - df[\"x_gt\"].to_numpy())**2 + (df[\"y\"].to_numpy() - df[\"y_gt\"].to_numpy())**2)\n",
    "    print(f\"{files[i]} finall err: {euclidean[-1]}, avg err: {euclidean.mean()}\")\n",
    "    ax.set_title(files[i])\n",
    "    ax.set_xticks(np.arange(-8, 8, 1))\n",
    "    ax.set_yticks(np.arange(-8, 8, 1))\n",
    "    ax.grid()\n",
    "    ax.legend()\n",
    "plt.tight_layout()\n",
    "plt.show()\n",
    "\n",
    "\n"
   ]
  },
  {
   "cell_type": "code",
   "execution_count": null,
   "metadata": {},
   "outputs": [],
   "source": []
  },
  {
   "cell_type": "code",
   "execution_count": null,
   "metadata": {},
   "outputs": [],
   "source": []
  },
  {
   "cell_type": "code",
   "execution_count": null,
   "metadata": {},
   "outputs": [],
   "source": []
  }
 ],
 "metadata": {
  "kernelspec": {
   "display_name": "usr",
   "language": "python",
   "name": "python3"
  },
  "language_info": {
   "codemirror_mode": {
    "name": "ipython",
    "version": 3
   },
   "file_extension": ".py",
   "mimetype": "text/x-python",
   "name": "python",
   "nbconvert_exporter": "python",
   "pygments_lexer": "ipython3",
   "version": "3.10.12"
  }
 },
 "nbformat": 4,
 "nbformat_minor": 2
}
