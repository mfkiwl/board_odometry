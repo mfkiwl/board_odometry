{
 "cells": [
  {
   "cell_type": "code",
   "execution_count": null,
   "metadata": {},
   "outputs": [],
   "source": [
    "import numpy as np\n",
    "import pandas as pd\n",
    "\n",
    "import matplotlib.pyplot as plt\n",
    "import os"
   ]
  },
  {
   "cell_type": "code",
   "execution_count": null,
   "metadata": {},
   "outputs": [],
   "source": [
    "dir_name = \"../output6\"\n",
    "gt_dir = \"../data/test6\"\n",
    "gt_files = os.listdir(gt_dir)\n",
    "print(gt_files)\n",
    "files = os.listdir(dir_name)\n",
    "\n",
    "print(files)\n",
    "data = []\n",
    "for file in files:\n",
    "    with open(os.path.join(dir_name, file), 'r') as f:\n",
    "        data.append(eval(f.read()))\n"
   ]
  },
  {
   "cell_type": "code",
   "execution_count": null,
   "metadata": {},
   "outputs": [],
   "source": [
    "dfs= []\n",
    "\n",
    "for experiment in data:\n",
    "    df = pd.DataFrame(experiment, columns=[\"x\", \"y\", \"x_gt\", \"y_gt\", \"l2\"])\n",
    "    dfs.append(df)\n"
   ]
  },
  {
   "cell_type": "code",
   "execution_count": null,
   "metadata": {},
   "outputs": [],
   "source": []
  },
  {
   "cell_type": "code",
   "execution_count": null,
   "metadata": {},
   "outputs": [],
   "source": []
  },
  {
   "cell_type": "code",
   "execution_count": null,
   "metadata": {},
   "outputs": [],
   "source": [
    "fix, axes = plt.subplots(len(dfs)//2+1, 2, figsize=(20, 10))\n",
    "for i, df in enumerate(dfs):\n",
    "    t = np.arange(len(dfs[i]))\n",
    "    ax = axes[i // 2, i % 2]\n",
    "    ax.plot(t, df[\"x\"].to_numpy(), label=f\"{files[i]}_pred\")\n",
    "    ax.plot(t, df[\"x_gt\"].to_numpy(), label=f\"{files[i]}_gt\")\n",
    "    ax.set_title(files[i])\n",
    "    ax.legend()\n",
    "plt.tight_layout()\n",
    "plt.show()"
   ]
  },
  {
   "cell_type": "code",
   "execution_count": null,
   "metadata": {},
   "outputs": [],
   "source": [
    "fix, axes = plt.subplots(len(dfs)//2+1, 2, figsize=(20, 10))\n",
    "for i, df in enumerate(dfs):\n",
    "    t = np.arange(len(dfs[i]))\n",
    "    ax = axes[i // 2, i % 2]\n",
    "    ax.plot(t, df[\"y\"].to_numpy(), label=f\"{files[i]}_pred\")\n",
    "    ax.plot(t, df[\"y_gt\"].to_numpy(), label=f\"{files[i]}_gt\")\n",
    "    ax.set_title(files[i])\n",
    "    ax.legend()\n",
    "plt.tight_layout()\n",
    "plt.show()"
   ]
  },
  {
   "cell_type": "code",
   "execution_count": null,
   "metadata": {},
   "outputs": [],
   "source": [
    "fix, axes = plt.subplots(len(dfs)//2+1, 2, figsize=(20, 10))\n",
    "for i, df in enumerate(dfs):\n",
    "    t = np.arange(len(dfs[i]))\n",
    "    dx  = np.abs(df[\"x\"].to_numpy() - df[\"x_gt\"].to_numpy())\n",
    "    dy  = np.abs(df[\"y\"].to_numpy() - df[\"y_gt\"].to_numpy())\n",
    "    ax = axes[i // 2, i % 2]\n",
    "    ax.plot(t, dx, label=f\"{files[i]}_abs_dx\")\n",
    "    ax.plot(t, dy, label=f\"{files[i]}_abs_dy\")\n",
    "    ax.plot(t, df[\"l2\"].to_numpy(), label=f\"{files[i]}_l2 error\")\n",
    "\n",
    "    mse_x = np.mean(np.square(dx))\n",
    "    mse_y = np.mean(np.square(dy))\n",
    "    print(files[i], mse_x.mean(), mse_y.mean(), df[\"l2\"].mean())\n",
    "\n",
    "    ax.set_title(files[i])\n",
    "    ax.legend()\n",
    "plt.tight_layout()\n",
    "plt.show()"
   ]
  },
  {
   "cell_type": "code",
   "execution_count": null,
   "metadata": {},
   "outputs": [],
   "source": [
    "fig, axes = plt.subplots(len(dfs)//2+1, 2, figsize=(10, 10))\n",
    "\n",
    "\n",
    "# accel = pd.read_csv(os.path.join(gt_dir, gt_files[1]))\n",
    "# print(accel.columns)\n",
    "# accel = accel[[\"Stamp\", \"LinAccX\", \"LinAccY\", \"LinAccZ\", \"Roll\", \"Pitch\"]]\n",
    "# accel[\"LinAccX\"] = accel[\"LinAccX\"] + np.random.normal(0, 0.15, len(accel))\n",
    "# accel[\"LinAccY\"] = accel[\"LinAccY\"] + np.random.normal(0, 0.15, len(accel))\n",
    "# accel[\"LinAccZ\"] = accel[\"LinAccZ\"] + np.random.normal(0, 0.15, len(accel))\n",
    "\n",
    "# accel.to_csv(os.path.join(gt_dir, f\"{gt_files[1]}_noise\"), index=False)\n",
    "# accel[\"dt\"] = accel[\"Stamp\"].diff()\n",
    "# accel[\"dt\"] = accel[\"dt\"].fillna(0)\n",
    "\n",
    "# R = np.zeros((len(accel), 3, 3))\n",
    "# for i in range(len(accel)):\n",
    "#     acc = np.zeros((3, 1))\n",
    "#     acc[0,0] = accel[\"LinAccX\"][i]\n",
    "#     acc[1,0] = accel[\"LinAccY\"][i]\n",
    "#     acc[2,0] = accel[\"LinAccZ\"][i]\n",
    "#     p = np.zeros((3, 3))\n",
    "#     p[0,0] = 1\n",
    "#     p[1,1] = np.cos(accel[\"Pitch\"][i])\n",
    "#     p[1,2] = -np.sin(accel[\"Pitch\"][i])\n",
    "#     p[2,1] = np.sin(accel[\"Pitch\"][i])\n",
    "#     p[2,2] = np.cos(accel[\"Pitch\"][i])\n",
    "\n",
    "#     r = np.zeros((3, 3))\n",
    "#     r[0,0] = np.cos(accel[\"Roll\"][i])\n",
    "#     r[0,2] = np.sin(accel[\"Roll\"][i])\n",
    "#     r[2,0] = -np.sin(accel[\"Roll\"][i])\n",
    "#     r[2,2] = np.cos(accel[\"Roll\"][i])\n",
    "#     r[1,1] = 1\n",
    "#     R[i] = np.dot(r, p)\n",
    "#     acc = np.dot(R[i], acc)\n",
    "#     accel[\"LinAccX\"][i] = -acc[0,0]\n",
    "#     accel[\"LinAccY\"][i] = -acc[1,0]\n",
    "#     accel[\"LinAccZ\"][i] = -acc[2,0]\n",
    "    \n",
    "# accel[\"VelX\"] = (accel[\"LinAccX\"].to_numpy() * accel[\"dt\"].to_numpy()).cumsum()\n",
    "# accel[\"VelY\"] = (accel[\"LinAccY\"].to_numpy() * accel[\"dt\"].to_numpy()).cumsum()\n",
    "# accel[\"VelZ\"] = (accel[\"LinAccZ\"].to_numpy() * accel[\"dt\"].to_numpy()).cumsum()\n",
    "\n",
    "# accel[\"x\"] = (accel[\"VelX\"].to_numpy() * accel[\"dt\"].to_numpy()).cumsum()\n",
    "# accel[\"y\"] = (accel[\"VelY\"].to_numpy() * accel[\"dt\"].to_numpy()).cumsum()\n",
    "# accel[\"z\"] = (accel[\"VelZ\"].to_numpy() * accel[\"dt\"].to_numpy()).cumsum()\n",
    "\n",
    "\n",
    "\n",
    "for i, df in enumerate(dfs):\n",
    "    ax = axes[i // 2, i % 2]\n",
    "    ax.plot(df[\"x\"].to_numpy(), df[\"y\"].to_numpy(), label=f\"{files[i]}_pred\")\n",
    "    ax.plot(df[\"x_gt\"].to_numpy(), df[\"y_gt\"].to_numpy(), label=f\"{files[i]}_gt\")\n",
    "    # ax.plot(accel[\"x\"].to_numpy(), accel[\"y\"].to_numpy(), label=f\"{gt_files[1]}_integral\")\n",
    "    euclidean = np.sqrt((df[\"x\"].to_numpy() - df[\"x_gt\"].to_numpy())**2 + (df[\"y\"].to_numpy() - df[\"y_gt\"].to_numpy())**2)\n",
    "    print(f\"{files[i]} finall err: {euclidean[-1]}, avg err: {euclidean.mean()}\")\n",
    "    ax.set_title(files[i])\n",
    "    ax.set_xticks(np.arange(-8, 8, 1))\n",
    "    ax.set_yticks(np.arange(-8, 8, 1))\n",
    "    ax.grid()\n",
    "    ax.legend()\n",
    "plt.tight_layout()\n",
    "plt.show()\n",
    "\n",
    "\n"
   ]
  },
  {
   "cell_type": "code",
   "execution_count": null,
   "metadata": {},
   "outputs": [],
   "source": []
  },
  {
   "cell_type": "code",
   "execution_count": null,
   "metadata": {},
   "outputs": [],
   "source": []
  }
 ],
 "metadata": {
  "kernelspec": {
   "display_name": ".venv",
   "language": "python",
   "name": "python3"
  },
  "language_info": {
   "codemirror_mode": {
    "name": "ipython",
    "version": 3
   },
   "file_extension": ".py",
   "mimetype": "text/x-python",
   "name": "python",
   "nbconvert_exporter": "python",
   "pygments_lexer": "ipython3",
   "version": "3.10.12"
  }
 },
 "nbformat": 4,
 "nbformat_minor": 2
}
